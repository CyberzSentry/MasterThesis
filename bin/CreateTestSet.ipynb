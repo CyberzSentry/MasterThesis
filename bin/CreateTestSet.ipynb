{
 "cells": [
  {
   "cell_type": "markdown",
   "source": [
    "# Create Data Set \n",
    "\n",
    "This notebook transforms data from 'processesSummary' and 'processesModule' file into a single dataframe.\n",
    "In the process it creates following features:\n",
    "`ProcPath` - recursive parent process names leading to the root process.\n",
    "`ProcPathId` - recursive parent process id's leading to the root process.\n",
    "`DLL's`- multiple columns in the dataframe contain onehot encoded indicators whether the given process loaded a specific dll.\n"
   ],
   "metadata": {}
  },
  {
   "cell_type": "code",
   "execution_count": 1,
   "source": [
    "import pandas as pd\r\n",
    "import matplotlib.pyplot as plt\r\n",
    "import numpy as np"
   ],
   "outputs": [],
   "metadata": {}
  },
  {
   "cell_type": "code",
   "execution_count": 2,
   "source": [
    "date = '10-07'"
   ],
   "outputs": [],
   "metadata": {}
  },
  {
   "cell_type": "code",
   "execution_count": 3,
   "source": [
    "process_df = pd.read_csv('perf+extracted/PerfViewData-{}.processesSummary.csv'.format(date), sep=';')\r\n",
    "modules_df = pd.read_csv('perf+extracted/PerfViewData-{}.processesModule.csv'.format(date), sep=';')"
   ],
   "outputs": [],
   "metadata": {}
  },
  {
   "cell_type": "markdown",
   "source": [
    "### Setting Name column as strict string type"
   ],
   "metadata": {}
  },
  {
   "cell_type": "code",
   "execution_count": 4,
   "source": [
    "process_df = process_df.astype({\"Name\": str})"
   ],
   "outputs": [],
   "metadata": {}
  },
  {
   "cell_type": "code",
   "execution_count": 5,
   "source": [
    "process_df.info()"
   ],
   "outputs": [
    {
     "output_type": "stream",
     "name": "stdout",
     "text": [
      "<class 'pandas.core.frame.DataFrame'>\n",
      "RangeIndex: 490 entries, 0 to 489\n",
      "Data columns (total 10 columns):\n",
      " #   Column        Non-Null Count  Dtype \n",
      "---  ------        --------------  ----- \n",
      " 0   Name          490 non-null    object\n",
      " 1   ID            490 non-null    int64 \n",
      " 2   Parent_ID     490 non-null    int64 \n",
      " 3   Bitness       490 non-null    int64 \n",
      " 4   CPUMsec       490 non-null    int64 \n",
      " 5   AveProcsUsed  490 non-null    object\n",
      " 6   DurationMSec  490 non-null    object\n",
      " 7   StartMSec     490 non-null    object\n",
      " 8   ExitCode      490 non-null    object\n",
      " 9   CommandLine   486 non-null    object\n",
      "dtypes: int64(4), object(6)\n",
      "memory usage: 38.4+ KB\n"
     ]
    }
   ],
   "metadata": {}
  },
  {
   "cell_type": "markdown",
   "source": [
    "## Creating Process Paths"
   ],
   "metadata": {}
  },
  {
   "cell_type": "code",
   "execution_count": 8,
   "source": [
    "process_df['StartMSec'] = process_df['StartMSec'].replace({',':'.'},regex=True).apply(pd.to_numeric,1)\r\n",
    "process_df['DurationMSec'] = process_df['DurationMSec'].replace({',':'.'},regex=True).apply(pd.to_numeric,1)\r\n",
    "process_df['EndMSec'] = process_df['StartMSec'] + process_df['DurationMSec']"
   ],
   "outputs": [],
   "metadata": {}
  },
  {
   "cell_type": "code",
   "execution_count": 9,
   "source": [
    "def procPath(parentId, name, start, procTree):\r\n",
    "    ids = set()\r\n",
    "    path = '/' + name\r\n",
    "    finished = False\r\n",
    "    \r\n",
    "    try:\r\n",
    "        while finished == False:\r\n",
    "            probableParents = procTree[parentId]\r\n",
    "            found = False\r\n",
    "            ids.add(parentId)\r\n",
    "            for parent in probableParents:\r\n",
    "                if start > parent['Start'] and start < parent['End']:   \r\n",
    "                    path = '/' + parent['Name'] + path\r\n",
    "                    parentId = parent['Parent']\r\n",
    "                    start = parent['Start'] \r\n",
    "                    found = True\r\n",
    "                    if parentId in ids:\r\n",
    "                        finished = True\r\n",
    "                    break\r\n",
    "            if not found:\r\n",
    "                break\r\n",
    "    except KeyError as ex:\r\n",
    "        pass\r\n",
    "    return path\r\n",
    "tree = {}\r\n",
    "for x, y, z, s, e in process_df[['ID', 'Parent_ID', 'Name', 'StartMSec', 'EndMSec']].itertuples(index=False): \r\n",
    "    if x in tree:\r\n",
    "        tree[x].append({'Parent': y, 'Name': z, 'Start': s, 'End': e})\r\n",
    "    else:\r\n",
    "        tree[x] = [{'Parent': y, 'Name': z, 'Start': s, 'End': e}]\r\n",
    "        \r\n",
    "def procPathId(parentId, idValue, start, procTree):\r\n",
    "    ids = set()\r\n",
    "    path = '/' + str(idValue)\r\n",
    "    finished = False\r\n",
    "    \r\n",
    "    try:\r\n",
    "        while finished == False:\r\n",
    "            probableParents = procTree[parentId]\r\n",
    "            found = False\r\n",
    "            ids.add(parentId)\r\n",
    "            for parent in probableParents:\r\n",
    "                if start > parent['Start'] and start < parent['End']:   \r\n",
    "                    path = '/' + str(parentId) + path\r\n",
    "                    parentId = parent['Parent']\r\n",
    "                    start = parent['Start'] \r\n",
    "                    found = True\r\n",
    "                    if parentId in ids:\r\n",
    "                        finished = True\r\n",
    "                    break\r\n",
    "            if not found:\r\n",
    "                break\r\n",
    "    except KeyError as ex:\r\n",
    "        pass\r\n",
    "    return path\r\n",
    "tree = {}\r\n",
    "for x, y, z, s, e in process_df[['ID', 'Parent_ID', 'Name', 'StartMSec', 'EndMSec']].itertuples(index=False): \r\n",
    "    if x in tree:\r\n",
    "        tree[x].append({'Parent': y, 'Name': z, 'Start': s, 'End': e})\r\n",
    "    else:\r\n",
    "        tree[x] = [{'Parent': y, 'Name': z, 'Start': s, 'End': e}]"
   ],
   "outputs": [],
   "metadata": {}
  },
  {
   "cell_type": "code",
   "execution_count": 10,
   "source": [
    "process_df['Path'] = [procPath(x,y, z, tree) for x, y, z in process_df[['Parent_ID', 'Name', 'StartMSec']].itertuples(index=False)]\r\n",
    "process_df['PathId'] = [procPathId(x,y, z, tree) for x, y, z in process_df[['Parent_ID', 'ID', 'StartMSec']].itertuples(index=False)]"
   ],
   "outputs": [],
   "metadata": {}
  },
  {
   "cell_type": "markdown",
   "source": [
    "## Names with extentions"
   ],
   "metadata": {}
  },
  {
   "cell_type": "code",
   "execution_count": 11,
   "source": [
    "modules_df['NameExt'] = [x.split('\\\\')[-1] for x in modules_df['FilePath']]"
   ],
   "outputs": [],
   "metadata": {}
  },
  {
   "cell_type": "markdown",
   "source": [
    "## OneHot\r\n",
    "\r\n",
    "Row where a process loaded a dll with the same name as process name are skiped."
   ],
   "metadata": {}
  },
  {
   "cell_type": "code",
   "execution_count": 12,
   "source": [
    "onehot_df = pd.DataFrame(columns = modules_df['Name'].value_counts().keys())\r\n",
    "onehot_df['ID'] = process_df['ID']\r\n",
    "onehot_df['Name'] = process_df['Name']\r\n",
    "onehot_df = onehot_df.fillna(0)\r\n",
    "skips = set(process_df[(process_df['Name'] == 'Registry') | (process_df['Name'] == 'MemCompression') | (process_df['Name'] == 'nan')].index)\r\n",
    "# onehot_df = onehot_df[(onehot_df['Name'] != 'Registry') & (onehot_df['Name'] != 'MemCompression') & (onehot_df['Name'] != 'nan')]\r\n",
    "\r\n",
    "i = -1\r\n",
    "no_id = 0\r\n",
    "cur_proc_name = ''\r\n",
    "for row in modules_df.iterrows():\r\n",
    "    if cur_proc_name != row[1][0] or no_id != row[1][1]:\r\n",
    "        i+=1\r\n",
    "        while i in skips:\r\n",
    "            i+=1\r\n",
    "        cur_proc_name = row[1][0]\r\n",
    "        no_id = row[1][1]\r\n",
    "#         print(i, cur_proc_name)\r\n",
    "    if row[1][2].lower() != cur_proc_name.lower():\r\n",
    "        onehot_df.loc[i, row[1][2]] = 1\r\n",
    "#         print('\\t',row[1][2])\r\n",
    "onehot_df = onehot_df.fillna(0)\r\n",
    "print(onehot_df.shape)\r\n",
    "onehot_df = onehot_df.loc[:, onehot_df.sum(axis=0)!= 0]\r\n",
    "print(onehot_df.shape)"
   ],
   "outputs": [
    {
     "output_type": "stream",
     "name": "stdout",
     "text": [
      "(490, 1379)\n",
      "(490, 1307)\n"
     ]
    }
   ],
   "metadata": {}
  },
  {
   "cell_type": "code",
   "execution_count": 13,
   "source": [
    "# temp_proces_df = process_df[(process_df['Name'] != 'Registry') & (process_df['Name'] != 'MemCompression') & (process_df['Name'] != 'nan')]\n",
    "onehot_df['StartMSec'] = process_df['StartMSec']\n",
    "onehot_df['DurationMSec'] = process_df['DurationMSec']\n",
    "onehot_df['EndMSec'] = process_df['EndMSec']\n",
    "onehot_df['Path'] = process_df['Path']\n",
    "onehot_df['PathId'] = process_df['PathId']\n",
    "onehot_df['CommandLine'] = process_df['CommandLine']"
   ],
   "outputs": [],
   "metadata": {}
  },
  {
   "cell_type": "markdown",
   "source": [
    "## Save"
   ],
   "metadata": {}
  },
  {
   "cell_type": "code",
   "execution_count": 14,
   "source": [
    "onehot_df.to_csv('processed_data/onehot_{}.csv'.format(date), index=False)"
   ],
   "outputs": [],
   "metadata": {}
  },
  {
   "cell_type": "markdown",
   "source": [
    "## Validate"
   ],
   "metadata": {}
  },
  {
   "cell_type": "code",
   "execution_count": 15,
   "source": [
    "only_expl =  onehot_df[onehot_df['Name'] == 'explorer'].drop(['ID', 'Name', 'Path', 'CommandLine', 'StartMSec', 'DurationMSec', 'EndMSec'], axis=1)\n",
    "only_expl.loc[:, (only_expl != 0).any(axis=0)]"
   ],
   "outputs": [
    {
     "output_type": "execute_result",
     "data": {
      "text/plain": [
       "     combase  rpcrt4  ucrtbase  msvcrt  ntdll  kernel32  kernelbase  \\\n",
       "485        1       1         1       1      1         1           1   \n",
       "\n",
       "     msvcp_win  sechost  advapi32  ...  \\\n",
       "485          1        1         1  ...   \n",
       "\n",
       "     windows.internal.ui.shell.windowtabmanager  shdocvw  duser  prnfldr  \\\n",
       "485                                           1        1      1        1   \n",
       "\n",
       "     windows.data.activities  virtualmonitormanager  wscinterop  \\\n",
       "485                        1                      1           1   \n",
       "\n",
       "     wpdshserviceobj  explorerframe  PathId  \n",
       "485                1              1   /3736  \n",
       "\n",
       "[1 rows x 281 columns]"
      ],
      "text/html": [
       "<div>\n",
       "<style scoped>\n",
       "    .dataframe tbody tr th:only-of-type {\n",
       "        vertical-align: middle;\n",
       "    }\n",
       "\n",
       "    .dataframe tbody tr th {\n",
       "        vertical-align: top;\n",
       "    }\n",
       "\n",
       "    .dataframe thead th {\n",
       "        text-align: right;\n",
       "    }\n",
       "</style>\n",
       "<table border=\"1\" class=\"dataframe\">\n",
       "  <thead>\n",
       "    <tr style=\"text-align: right;\">\n",
       "      <th></th>\n",
       "      <th>combase</th>\n",
       "      <th>rpcrt4</th>\n",
       "      <th>ucrtbase</th>\n",
       "      <th>msvcrt</th>\n",
       "      <th>ntdll</th>\n",
       "      <th>kernel32</th>\n",
       "      <th>kernelbase</th>\n",
       "      <th>msvcp_win</th>\n",
       "      <th>sechost</th>\n",
       "      <th>advapi32</th>\n",
       "      <th>...</th>\n",
       "      <th>windows.internal.ui.shell.windowtabmanager</th>\n",
       "      <th>shdocvw</th>\n",
       "      <th>duser</th>\n",
       "      <th>prnfldr</th>\n",
       "      <th>windows.data.activities</th>\n",
       "      <th>virtualmonitormanager</th>\n",
       "      <th>wscinterop</th>\n",
       "      <th>wpdshserviceobj</th>\n",
       "      <th>explorerframe</th>\n",
       "      <th>PathId</th>\n",
       "    </tr>\n",
       "  </thead>\n",
       "  <tbody>\n",
       "    <tr>\n",
       "      <th>485</th>\n",
       "      <td>1</td>\n",
       "      <td>1</td>\n",
       "      <td>1</td>\n",
       "      <td>1</td>\n",
       "      <td>1</td>\n",
       "      <td>1</td>\n",
       "      <td>1</td>\n",
       "      <td>1</td>\n",
       "      <td>1</td>\n",
       "      <td>1</td>\n",
       "      <td>...</td>\n",
       "      <td>1</td>\n",
       "      <td>1</td>\n",
       "      <td>1</td>\n",
       "      <td>1</td>\n",
       "      <td>1</td>\n",
       "      <td>1</td>\n",
       "      <td>1</td>\n",
       "      <td>1</td>\n",
       "      <td>1</td>\n",
       "      <td>/3736</td>\n",
       "    </tr>\n",
       "  </tbody>\n",
       "</table>\n",
       "<p>1 rows × 281 columns</p>\n",
       "</div>"
      ]
     },
     "metadata": {},
     "execution_count": 15
    }
   ],
   "metadata": {}
  },
  {
   "cell_type": "code",
   "execution_count": 16,
   "source": [
    "arr = ['puiobj','prnntfy','themeui','windows.internal.graphics.display.displaycolormanagement','cdprt','cdprt','cdprt','windows.internal.graphics.display.displaycolormanagement','windows.cloudstore.schema.desktopshell','cdprt','cdprt','cdprt','cdprt','uiribbon','cdprt','tiptsf','ieproxy','wpdshext','cdprt','wpdshext','framedynos','msiso','ieframe','pcacli','wpdshext','wpdshext','playtodevice','smartscreenps','taskflowui','tilecontrol','windowsinternal.composableshell.experiences.switcher','bthprops.cpl','imapi2','synccenter','srchadmin','pnidui','cscobj','mlang','settingmonitor','portabledeviceapi','dxp','actioncenter','inputswitch','stobject','icu','icu','icu','icu','icu','icu','icu','icu','icu','icu','icu','uiautomationcore','windows.media.mediacontrol','windows.media.mediacontrol','windows.media.mediacontrol','wpnclient','windows.services.targetedcontent','windows.internal.shell.broker','gdiplus','windows.ui.core.textinput','filesyncshell64','windows.internal.signals','dictationmanager','windowsudk.shellcommon','windows.internal.ui.shell.windowtabmanager','windows.shell.bluelightreduction','windows.fileexplorer.common','abovelockapphost','holographicextensions','applicationframe','ntshrui','twinui','portabledevicetypes','windows.immersiveshell.serviceprovider','twinui.pcshell','thumbcache','explorerframe','wpdshserviceobj','windows.storage.search','dataexchange','syncreg','virtualmonitormanager','cldapi','oleacc','settingsynccore','starttiledata','appextension','sndvolsso','winmm','cflapi','shellcommoncommonproxystub','notificationcontrollerps','windows.cloudstore.schema.shell','windows.cloudstore.schema.shell','ondemandconnroutehelper','appresolver','capauthz','wlidprov','windows.staterepositoryclient','windows.security.authentication.web.core','windows.applicationmodel','tiledatarepository','shdocvw','execmodelproxy','execmodelproxy','container','daxexec','audioses','uiamanager','twinui.appcore','windows.system.launcher','windows.system.launcher','appcontracts','atlthunk','windows.shell.servicehostbuilder','windows.shell.servicehostbuilder','edputil','capabilityaccessmanagerclient','capabilityaccessmanagerclient','capabilityaccessmanagerclient','twinapi','puiapi','printui','rdpendp','settingsync','windows.cloudstore','npsm','cryptngc','provsvc','provsvc','provsvc','bthavctpsvc','npsmdesktopprovider','dlnashext','cryptnet','windows.web','mssprxy','tquery','windows.staterepositoryps','winbrand','ondemandbrokerclient','windows.media.devices','staterepository.core','windows.staterepository','storageusage','wpnapps','wpnapps','wpnapps','mpr','ncryptsslp','windows.staterepositorybroker','hcproviders','werconcpl','wscui.cpl','wscinterop','windows.networking.connectivity','cdp','wscapi','onecorecommonproxystub','ethernetmediamanager','networkuxbroker','comppkgsup','cdprt','cdprt','nlmproxy','windows.ui.fileexplorer','duser','dui70','davclnt','ntlanman','windows.ui.appdefaults','provsvc','ehstorapi','aepic','windows.data.activities','taskflowdataengine','cscui','windows.ui.shell','prnfldr','devdispitemprovider','mswb7','photometadatahandler','structuredquery','windows.devices.enumeration','wininet','provsvc','mskeyprotect','textshaping','windows.globalization','windows.globalization','windows.globalization','windows.globalization','windows.globalization','windows.globalization','windows.globalization','windows.globalization','windows.globalization','windows.globalization','windows.globalization','comctl32','windows.ui.immersive','windows.ui.xaml','languageoverlayutil','inputhost','textinputframework','windows.ui','wincorlib','batmeter','linkinfo','idstore','windows.staterepositorycore','mrmcorer','dusmapi','workfoldersshell','searchfolder','wpprecorderum','networkexplorer','davhlpr','drprov','iconcodecservice','pcshellcommonproxystub','bcp47mrm','ehstorshell','bcp47langs','npmproxy','pdh','dwrite','rasadhlp','rtworkq','mfplat','iertutil','urlmon','cscapi','winhttp','mobilenetworking','dxcore','d3d10warp','fwpuclnt','wlanapi','version','dhcpcsvc','dhcpcsvc6','actxprxy','mmdevapi','winnsi','winspool.drv','secur32','sfc_os','fltlib','virtdisk','netapi32','srvcli','samcli','policymanager','es','wevtapi','onecoreuapcommonproxystub','coloradapterclient','mscms','uianimation','windowscodecs','twinapi.appcore','windowmanagementapi','ninput','appxdeploymentclient','usermgrcli','netprofm','wmiclnt','taskschd','taskschd','xmllite','propsys','samlib','wtsapi32','dsreg','d3d11','d2d1','wintypes','dcomp','coreuicomponents','coremessaging','apphelp','uxtheme','resourcepolicyclient','wer','rmclient','dwmapi','kernel.appcore','windows.storage','dxgi','tdh','sppc','slc','ntmarta','schannel','rsaenh','wkscli','msvcp110_win','iphlpapi','netutils','dnsapi','mswsock','cryptdll','cryptsp','cryptbase','winsta','umpdc','powrprof','wldp','ntasn1','ncrypt','msasn1','devobj','dpapi','sxs','userenv','sspicli','profapi','ucrtbase','wintrust','gdi32full','bcrypt','crypt32','cfgmgr32','kernelbase','win32u','bcryptprimitives','msvcp_win','nsi','shlwapi','sechost','shcore','kernel32','setupapi','combase','msvcrt','ws2_32','msctf','ole32','gdi32','clbcatq','rpcrt4','shell32','oleaut32','coml2','user32','imm32','advapi32','ntdll']"
   ],
   "outputs": [],
   "metadata": {}
  },
  {
   "cell_type": "markdown",
   "source": [
    "### Comparing the number of dlls in created dataset to the known dlls of the explorer process"
   ],
   "metadata": {}
  },
  {
   "cell_type": "code",
   "execution_count": 17,
   "source": [
    "if len(np.unique(arr, return_index=False)) == len(set(arr)):\n",
    "    print(\"Validation passed\")\n",
    "else:\n",
    "    print(\"Validation failed\")"
   ],
   "outputs": [
    {
     "output_type": "stream",
     "name": "stdout",
     "text": [
      "Validation passed\n"
     ]
    }
   ],
   "metadata": {}
  },
  {
   "cell_type": "markdown",
   "source": [
    "### Checking if any process didn't load all dlls"
   ],
   "metadata": {}
  },
  {
   "cell_type": "code",
   "execution_count": 29,
   "source": [
    "temp_oh_df = onehot_df.drop(['CommandLine', 'Path', 'PathId', 'EndMSec', 'DurationMSec', 'StartMSec', 'Name', 'ID'], axis=1)\n",
    "curr_name = ''\n",
    "curr_id = -1\n",
    "i = -1\n",
    "j = 0\n",
    "curr_set = set()\n",
    "\n",
    "for x, y, z in modules_df[['ProcessName', 'Name', 'ProcessID']].itertuples(index=False):\n",
    "    \n",
    "    if curr_name != x  or curr_id != z:\n",
    "        if i >= 0:\n",
    "            if temp_oh_df.loc[i, :].sum(axis=0) != len(curr_set): \n",
    "                print('For', i, curr_name, curr_id, 'SUM', temp_oh_df.loc[i, :].sum(axis=0), 'not equal', len(curr_set))\n",
    "                print(curr_set)\n",
    "        i+=1\n",
    "        while onehot_df.loc[i,'Name'] == 'MemCompression' or onehot_df.loc[i,'Name'] == 'Registry':\n",
    "            i+= 1\n",
    "        j = 0 \n",
    "        curr_name = x\n",
    "        curr_id = z\n",
    "        curr_set = set()\n",
    "    if onehot_df.loc[i,'Name'] !=  curr_name:\n",
    "        print('Name not alligned')\n",
    "        print(curr_name, curr_id, i, onehot_df.loc[i,'Name'])\n",
    "        break\n",
    "    if y.lower() != x.lower():\n",
    "        j += 1\n",
    "        curr_set.add(y)\n",
    "        if temp_oh_df.loc[i, y] != 1:\n",
    "            print('1 not set')\n",
    "            print(curr_name, curr_id, i, y)          \n",
    "    "
   ],
   "outputs": [],
   "metadata": {
    "scrolled": true
   }
  }
 ],
 "metadata": {
  "kernelspec": {
   "display_name": "Python 3",
   "language": "python",
   "name": "python3"
  },
  "language_info": {
   "codemirror_mode": {
    "name": "ipython",
    "version": 3
   },
   "file_extension": ".py",
   "mimetype": "text/x-python",
   "name": "python",
   "nbconvert_exporter": "python",
   "pygments_lexer": "ipython3",
   "version": "3.8.3rc1"
  }
 },
 "nbformat": 4,
 "nbformat_minor": 4
}